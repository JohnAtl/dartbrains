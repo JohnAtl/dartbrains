{
 "cells": [
  {
   "cell_type": "markdown",
   "metadata": {},
   "source": [
    "# Preprocessing\n",
    "*Written by Luke Chang*\n",
    "\n",
    "Being able to study brain activity associated with cognitive processes in humans is an amazing achievement. However, as we have noted throughout this course, there is an extraordinary amount of noise and a very low levels of signal, which makes it difficult to make inferences about the function of the brain using this BOLD imaging. A critical step before we can perform any analyses is to do our best to remove as much of the noise as possible. The series of steps to remove noise comprise our *neuroimaging data **preprocessing** pipeline*. See slides on our preprocessing lecture {download}`here <../images/lectures/Preprocessing.pdf>`.\n",
    "\n",
    "![preprocessing](../images/preprocessing/preprocessing.png)\n",
    "\n",
    "In this lab, we will go over the basics of preprocessing fMRI data using the [fmriprep](https://fmriprep.readthedocs.io/en/stable/) preprocessing pipeline. We will cover:\n",
    "\n",
    " - Image transformations\n",
    " - Head motion correction\n",
    " - Spatial Normalization\n",
    " - Spatial Smoothing\n",
    " \n",
    "There are other preprocessing steps that are also common, but not necessarily performed by all labs such as slice timing and distortion correction. We will not be discussing these in depth outside of the videos.\n",
    "\n",
    "Let's start with watching a short video by Martin Lindquist to get a general overview of the main steps of preprocessing and the basics of how to transform images and register them to other images."
   ]
  },
  {
   "cell_type": "markdown",
   "metadata": {},
   "source": [
    "## Image Transformations \n",
    "\n",
    "Ok, now let's dive deeper into how we can transform images into different spaces using linear transformations.\n",
    "\n",
    "Recall from our introduction to neuroimaging data lab, that neuroimaging data is typically stored in a nifti container, which contains a 3D or 4D matrix of the voxel intensities and also an affine matrix, which provides instructions for how to transform the matrix into another space.\n",
    "\n",
    "Let's create an interactive plot using ipywidgets so that we can get an intuition for how these affine matrices can be used to transform a 3D image.\n",
    "\n",
    "We can move the sliders to play with applying rigid body  transforms to a 3D cube. A rigid body transformation has 6 parameters: translation in x,y, & z, and rotation around each of these axes. The key thing to remember is that a rigid body transform doesn't allow the image to be fundamentally changed. A full 12 parameter affine transformation adds an additional 3 parameters each for scaling and shearing, which can change the shape of the cube.\n",
    "\n",
    "Try moving some of the sliders around. Note that the viewer is a little slow. Each time you move a slider it is applying an affine transformation to the matrix and re-plotting. \n",
    "\n",
    "Translation moves the cube in x, y, and z dimensions.\n",
    "\n",
    "We can also rotate the cube around the x, y, and z axes where the origin is the center point. Continuing to rotate around the point will definitely lead to the cube leaving the current field of view, but it will come back if you keep rotating it.\n",
    "\n",
    "You'll notice that every time we change the slider and apply a new affine transformation that the cube gets a little distorted with aliasing. Often we need to interpolate the image after applying a transformation to fill in the gaps after applying a transformation. It is important to keep in mind that every time we apply an affine transformation to our images, it is actually not a perfect representation of the original data. Additional steps like reslicing, interpolation, and spatial smoothing can help with this."
   ]
  },
  {
   "cell_type": "code",
   "execution_count": 6,
   "metadata": {
    "ExecuteTime": {
     "end_time": "2020-04-17T04:02:27.817988Z",
     "start_time": "2020-04-17T04:02:26.420706Z"
    },
    "scrolled": false
   },
   "outputs": [
    {
     "data": {
      "application/vnd.jupyter.widget-view+json": {
       "model_id": "8f9bcbfee9b244639846e8bd75847350",
       "version_major": 2,
       "version_minor": 0
      },
      "text/plain": [
       "interactive(children=(FloatSlider(value=0.0, description='trans_x', max=10.0, min=-10.0, step=1.0), FloatSlide…"
      ]
     },
     "metadata": {},
     "output_type": "display_data"
    },
    {
     "data": {
      "text/plain": [
       "<function __main__.plot_rigid_body_transformation(trans_x=0, trans_y=0, trans_z=0, rot_x=0, rot_y=0, rot_z=0)>"
      ]
     },
     "execution_count": 6,
     "metadata": {},
     "output_type": "execute_result"
    }
   ],
   "source": [
    "%matplotlib inline\n",
    "\n",
    "from mpl_toolkits import mplot3d\n",
    "import numpy as np\n",
    "import matplotlib.pyplot as plt\n",
    "from nibabel.affines import apply_affine, from_matvec, to_matvec\n",
    "from scipy.ndimage import affine_transform, map_coordinates\n",
    "import nibabel as nib\n",
    "from ipywidgets import interact, FloatSlider\n",
    "from copy import deepcopy\n",
    "\n",
    "def plot_rigid_body_transformation(trans_x=0, trans_y=0, trans_z=0, rot_x=0, rot_y=0, rot_z=0):\n",
    "    '''This plot creates an interactive demo to illustrate the parameters of a rigid body transformation'''\n",
    "    fov = 30\n",
    "    radius = 10\n",
    "    x, y, z = np.indices((fov, fov, fov))\n",
    "    cube = ((x > fov//2 - radius//2) & (x < fov//2 + radius//2)) & ((y > fov//2 - radius//2) & (y < fov//2 + radius//2)) & ((z > fov//2 - radius//2) & (z < fov//2 + radius//2 ))\n",
    "    cube = cube.astype(int)\n",
    "\n",
    "    vec = np.array([trans_x, trans_y, trans_z])\n",
    "    \n",
    "    rot_x = np.radians(rot_x)\n",
    "    rot_y = np.radians(rot_y)\n",
    "    rot_z = np.radians(rot_z)\n",
    "    rot_axis1 = np.array([[1, 0, 0],\n",
    "                         [0, np.cos(rot_x), -np.sin(rot_x)],\n",
    "                         [0, np.sin(rot_x), np.cos(rot_x)]])\n",
    "\n",
    "    rot_axis2 = np.array([[np.cos(rot_y), 0, np.sin(rot_y)],\n",
    "                         [0, 1, 0],\n",
    "                         [-np.sin(rot_y), 0, np.cos(rot_y)]])\n",
    "\n",
    "    rot_axis3 = np.array([[np.cos(rot_z), -np.sin(rot_z), 0],\n",
    "                         [np.sin(rot_z), np.cos(rot_z), 0],\n",
    "                         [0, 0, 1]])\n",
    "\n",
    "    rotation = rot_axis1 @ rot_axis2 @ rot_axis3\n",
    "    \n",
    "    affine = from_matvec(rotation, vec)\n",
    "    \n",
    "    i_coords, j_coords, k_coords = np.meshgrid(range(cube.shape[0]), range(cube.shape[1]), range(cube.shape[2]), indexing='ij')\n",
    "    coordinate_grid = np.array([i_coords, j_coords, k_coords])\n",
    "    coords_last = coordinate_grid.transpose(1, 2, 3, 0)\n",
    "    transformed = apply_affine(affine, coords_last)\n",
    "    coords_first = transformed.transpose(3, 0, 1, 2)\n",
    "\n",
    "    fig = plt.figure(figsize=(15, 12))\n",
    "    ax = plt.axes(projection='3d')\n",
    "    ax.voxels(map_coordinates(cube, coords_first))\n",
    "    ax.set_xlabel('x', fontsize=16)\n",
    "    ax.set_ylabel('y', fontsize=16)\n",
    "    ax.set_zlabel('z', fontsize=16)\n",
    "\n",
    "interact(plot_rigid_body_transformation, \n",
    "         trans_x=FloatSlider(value=0, min=-10, max=10, step=1),\n",
    "         trans_y=FloatSlider(value=0, min=-10, max=10, step=1),\n",
    "         trans_z=FloatSlider(value=0, min=-10, max=10, step=1),\n",
    "         rot_x=FloatSlider(value=0, min=0, max=360, step=15),\n",
    "         rot_y=FloatSlider(value=0, min=0, max=360, step=15),\n",
    "         rot_z=FloatSlider(value=0, min=0, max=360, step=15))"
   ]
  },
  {
   "cell_type": "markdown",
   "metadata": {},
   "source": [
    "## Cost Functions\n",
    "Now that we have learned how affine transformations can be applied to transform images into different spaces, how can we use this to register one brain image to another image?\n",
    "\n",
    "The key is to identify a way to quantify how aligned the two images are to each other. Our visual systems are very good at identifying when two images are aligned, however, we need to create an alignment measure. These measures are often called *cost functions*. \n",
    "\n",
    "There are many different types of cost functions depending on the types of images that are being aligned. For example, a common cost function is called minimizing the sum of the squared differences and is similar to how regression lines are fit to minimize deviations from the observed data. This measure works best if the images are of the same type and have roughly equivalent signal intensities.\n",
    "\n",
    "Let's create another interactive plot and find the optimal X & Y translation parameters that minimize the difference between a two-dimensional target image to a reference image."
   ]
  },
  {
   "cell_type": "code",
   "execution_count": 7,
   "metadata": {
    "ExecuteTime": {
     "end_time": "2020-04-17T05:31:59.845770Z",
     "start_time": "2020-04-17T05:31:59.350358Z"
    }
   },
   "outputs": [
    {
     "data": {
      "application/vnd.jupyter.widget-view+json": {
       "model_id": "e12402e8d50a4aea95b33049cd269a12",
       "version_major": 2,
       "version_minor": 0
      },
      "text/plain": [
       "interactive(children=(FloatSlider(value=0.0, description='trans_x', max=0.0, min=-30.0, step=1.0), FloatSlider…"
      ]
     },
     "metadata": {},
     "output_type": "display_data"
    },
    {
     "data": {
      "text/plain": [
       "<function __main__.plot_affine_cost(trans_x=0, trans_y=0)>"
      ]
     },
     "execution_count": 7,
     "metadata": {},
     "output_type": "execute_result"
    }
   ],
   "source": [
    "def plot_affine_cost(trans_x=0, trans_y=0):\n",
    "    '''This function creates an interactive demo to highlight how a cost function works in image registration.'''\n",
    "    fov = 30\n",
    "    radius = 15\n",
    "    x, y = np.indices((fov, fov))\n",
    "    square1 = (x < radius-2) & (y < radius-2)\n",
    "    square2 = ((x > fov//2 - radius//2) & (x < fov//2 + radius//2)) & ((y > fov//2 - radius//2) & (y < fov//2 + radius//2))\n",
    "    square1 = square1.astype(float)\n",
    "    square2 = square2.astype(float)\n",
    "\n",
    "    vec = np.array([trans_y, trans_x])\n",
    "    \n",
    "    affine = from_matvec(np.eye(2), vec)\n",
    "    \n",
    "    i_coords, j_coords = np.meshgrid(range(square1.shape[0]), range(square1.shape[1]), indexing='ij')\n",
    "    coordinate_grid = np.array([i_coords, j_coords])\n",
    "    coords_last = coordinate_grid.transpose(1, 2, 0)\n",
    "    transformed = apply_affine(affine, coords_last)\n",
    "    coords_first = transformed.transpose(2, 0, 1)\n",
    "    \n",
    "    transformed_square = map_coordinates(square1, coords_first)\n",
    "    f,a = plt.subplots(ncols=3, figsize=(15, 5))\n",
    "    a[0].imshow(transformed_square)\n",
    "    a[0].set_xlabel('x', fontsize=16)\n",
    "    a[0].set_ylabel('y', fontsize=16)\n",
    "    a[0].set_title('Target Image', fontsize=18)\n",
    "    \n",
    "    a[1].imshow(square2)\n",
    "    a[1].set_xlabel('x', fontsize=16)\n",
    "    a[1].set_ylabel('y', fontsize=16)\n",
    "    a[1].set_title('Reference Image', fontsize=18)\n",
    "    \n",
    "    point_x = deepcopy(trans_x)\n",
    "    point_y = deepcopy(trans_y)\n",
    "    sse = np.sum((transformed_square - square2)**2)\n",
    "    a[2].bar(0, sse)\n",
    "    a[2].set_ylim([0, 350])\n",
    "    a[2].set_ylabel('SSE', fontsize=18)\n",
    "    a[2].set_xlabel('Cost Function', fontsize=18)\n",
    "    a[2].set_xticks([])\n",
    "    a[2].set_title(f'Parameters: ({int(trans_x)},{int(trans_y)})', fontsize=20)\n",
    "    plt.tight_layout()\n",
    "    \n",
    "interact(plot_affine_cost, \n",
    "         trans_x=FloatSlider(value=0, min=-30, max=0, step=1),\n",
    "         trans_y=FloatSlider(value=0, min=-30, max=0, step=1))"
   ]
  },
  {
   "cell_type": "markdown",
   "metadata": {},
   "source": [
    "![costfunction](../images/preprocessing/Cost_Function.gif)"
   ]
  },
  {
   "cell_type": "markdown",
   "metadata": {},
   "source": [
    "You probably had to move the sliders around back and forth until you were able to reduce the sum of squared error to zero. This cost function increases exponentially the further you are away from your target. The process of minimizing (or sometimes maximizing) cost functions to identify the best fitting parameters is called *optimization* and is a concept that is core to fitting models to data across many different disciplines.\n",
    "\n",
    "| Cost Function | Use Case | Example |\n",
    "|:---:|:---:|:---:|\n",
    "| Sum of Squared Error | Images of same modality and scaling | Two T2* images  |\n",
    "| Normalized correlation | Images of same modality | two T1 images   |\n",
    "| Correlation ratio | Any modality  | T1 and FLAIR   |\n",
    "| Mutual information or normalized mutual information | Any modality  | T1 and CT |\n",
    "| Boundary Based Registration  | Images with some contrast across boundaries of interest | EPI and T1 |\n",
    "\n"
   ]
  },
  {
   "cell_type": "markdown",
   "metadata": {},
   "source": [
    "## Realignment\n",
    "\n",
    "Now let's put everything we learned together to understand how we can correct for head motion in functional images that occurred during a scanning session. It is extremely important to make sure that a specific voxel has the same 3D coordinate across all time points to be able to model neural processes. This of course is made difficult by the fact that participants move during a scanning session and also in between runs. \n",
    "\n",
    "Realignment is the preprocessing step in which a rigid body transformation is applied to each volume to align them to a common space. One typically needs to choose a reference volume, which might be the first, middle, or last volume, or the mean of all volumes.\n",
    "\n",
    "Let's look at an example of the translation and rotation parameters after running realignment on our first subject."
   ]
  },
  {
   "cell_type": "code",
   "execution_count": 12,
   "metadata": {},
   "outputs": [
    {
     "name": "stdout",
     "output_type": "stream",
     "text": [
      "Collecting package metadata (current_repodata.json): done\n",
      "Solving environment: done\n",
      "\n",
      "## Package Plan ##\n",
      "\n",
      "  environment location: /usr/local/Caskroom/miniconda/base/envs/nipype\n",
      "\n",
      "  added / updated specs:\n",
      "    - datalad\n",
      "\n",
      "\n",
      "The following packages will be downloaded:\n",
      "\n",
      "    package                    |            build\n",
      "    ---------------------------|-----------------\n",
      "    annexremote-1.2.1          |             py_0          23 KB  conda-forge\n",
      "    boto-2.49.0                |             py_0         838 KB  conda-forge\n",
      "    ca-certificates-2022.5.18.1|       h033912b_0         145 KB  conda-forge\n",
      "    certifi-2022.5.18.1        |   py38h50d1736_0         150 KB  conda-forge\n",
      "    chardet-4.0.0              |   py38h50d1736_3         205 KB  conda-forge\n",
      "    datalad-0.16.3             |   py38h50d1736_0         1.8 MB  conda-forge\n",
      "    distro-1.6.0               |     pyhd8ed1ab_0          22 KB  conda-forge\n",
      "    exifread-3.0.0             |     pyhd8ed1ab_0          36 KB  conda-forge\n",
      "    fasteners-0.17.3           |     pyhd8ed1ab_0          20 KB  conda-forge\n",
      "    humanize-4.1.0             |     pyhd8ed1ab_0          50 KB  conda-forge\n",
      "    iso8601-1.0.2              |     pyhd8ed1ab_0          13 KB  conda-forge\n",
      "    keyring-23.4.0             |   py38h50d1736_2          50 KB  conda-forge\n",
      "    keyrings.alt-4.0.2         |     pyhd3deb0d_0          19 KB  conda-forge\n",
      "    msgpack-python-1.0.3       |   py38h8b7791e_1          80 KB  conda-forge\n",
      "    mutagen-1.45.1             |     pyhd8ed1ab_0         144 KB  conda-forge\n",
      "    openssl-3.0.3              |       hfe4f2af_0         2.5 MB  conda-forge\n",
      "    p7zip-16.02                |    he49afe7_1001         2.3 MB  conda-forge\n",
      "    patool-1.12                |py38h50d1736_1005          76 KB  conda-forge\n",
      "    pyperclip-1.8.2            |     pyhd8ed1ab_2          14 KB  conda-forge\n",
      "    python-gitlab-3.4.0        |     pyhd8ed1ab_0          67 KB  conda-forge\n",
      "    requests-ftp-0.3.1         |             py_1          11 KB  conda-forge\n",
      "    requests-toolbelt-0.9.1    |             py_0          40 KB  conda-forge\n",
      "    tqdm-4.64.0                |     pyhd8ed1ab_0          81 KB  conda-forge\n",
      "    whoosh-2.7.4               |   py38h50d1736_5         711 KB  conda-forge\n",
      "    ------------------------------------------------------------\n",
      "                                           Total:         9.3 MB\n",
      "\n",
      "The following NEW packages will be INSTALLED:\n",
      "\n",
      "  annexremote        conda-forge/noarch::annexremote-1.2.1-py_0\n",
      "  boto               conda-forge/noarch::boto-2.49.0-py_0\n",
      "  chardet            conda-forge/osx-64::chardet-4.0.0-py38h50d1736_3\n",
      "  colorama           conda-forge/noarch::colorama-0.4.4-pyh9f0ad1d_0\n",
      "  datalad            conda-forge/osx-64::datalad-0.16.3-py38h50d1736_0\n",
      "  distro             conda-forge/noarch::distro-1.6.0-pyhd8ed1ab_0\n",
      "  exifread           conda-forge/noarch::exifread-3.0.0-pyhd8ed1ab_0\n",
      "  fasteners          conda-forge/noarch::fasteners-0.17.3-pyhd8ed1ab_0\n",
      "  humanize           conda-forge/noarch::humanize-4.1.0-pyhd8ed1ab_0\n",
      "  iso8601            conda-forge/noarch::iso8601-1.0.2-pyhd8ed1ab_0\n",
      "  keyring            conda-forge/osx-64::keyring-23.4.0-py38h50d1736_2\n",
      "  keyrings.alt       conda-forge/noarch::keyrings.alt-4.0.2-pyhd3deb0d_0\n",
      "  msgpack-python     conda-forge/osx-64::msgpack-python-1.0.3-py38h8b7791e_1\n",
      "  mutagen            conda-forge/noarch::mutagen-1.45.1-pyhd8ed1ab_0\n",
      "  p7zip              conda-forge/osx-64::p7zip-16.02-he49afe7_1001\n",
      "  patool             conda-forge/osx-64::patool-1.12-py38h50d1736_1005\n",
      "  pyperclip          conda-forge/noarch::pyperclip-1.8.2-pyhd8ed1ab_2\n",
      "  python-gitlab      conda-forge/noarch::python-gitlab-3.4.0-pyhd8ed1ab_0\n",
      "  requests-ftp       conda-forge/noarch::requests-ftp-0.3.1-py_1\n",
      "  requests-toolbelt  conda-forge/noarch::requests-toolbelt-0.9.1-py_0\n",
      "  tqdm               conda-forge/noarch::tqdm-4.64.0-pyhd8ed1ab_0\n",
      "  whoosh             conda-forge/osx-64::whoosh-2.7.4-py38h50d1736_5\n",
      "\n",
      "The following packages will be UPDATED:\n",
      "\n",
      "  ca-certificates                      2021.10.8-h033912b_0 --> 2022.5.18.1-h033912b_0\n",
      "  certifi                          2021.10.8-py38h50d1736_2 --> 2022.5.18.1-py38h50d1736_0\n",
      "  openssl                                  3.0.2-h6c3fc93_1 --> 3.0.3-hfe4f2af_0\n",
      "\n",
      "\n",
      "\n",
      "Downloading and Extracting Packages\n",
      "openssl-3.0.3        | 2.5 MB    | ##################################### | 100% \n",
      "ca-certificates-2022 | 145 KB    | ##################################### | 100% \n",
      "iso8601-1.0.2        | 13 KB     | ##################################### | 100% \n",
      "chardet-4.0.0        | 205 KB    | ##################################### | 100% \n",
      "patool-1.12          | 76 KB     | ##################################### | 100% \n",
      "msgpack-python-1.0.3 | 80 KB     | ##################################### | 100% \n",
      "certifi-2022.5.18.1  | 150 KB    | ##################################### | 100% \n",
      "mutagen-1.45.1       | 144 KB    | ##################################### | 100% \n",
      "exifread-3.0.0       | 36 KB     | ##################################### | 100% \n",
      "boto-2.49.0          | 838 KB    | ##################################### | 100% \n",
      "tqdm-4.64.0          | 81 KB     | ##################################### | 100% \n",
      "distro-1.6.0         | 22 KB     | ##################################### | 100% \n",
      "keyrings.alt-4.0.2   | 19 KB     | ##################################### | 100% \n",
      "keyring-23.4.0       | 50 KB     | ##################################### | 100% \n",
      "requests-ftp-0.3.1   | 11 KB     | ##################################### | 100% \n",
      "annexremote-1.2.1    | 23 KB     | ##################################### | 100% \n",
      "pyperclip-1.8.2      | 14 KB     | ##################################### | 100% \n",
      "datalad-0.16.3       | 1.8 MB    | ##################################### | 100% \n",
      "whoosh-2.7.4         | 711 KB    | ##################################### | 100% \n",
      "fasteners-0.17.3     | 20 KB     | ##################################### | 100% \n",
      "p7zip-16.02          | 2.3 MB    | ##################################### | 100% \n",
      "humanize-4.1.0       | 50 KB     | ##################################### | 100% \n",
      "python-gitlab-3.4.0  | 67 KB     | ##################################### | 100% \n",
      "requests-toolbelt-0. | 40 KB     | ##################################### | 100% \n",
      "Preparing transaction: done\n",
      "Verifying transaction: done\n",
      "Executing transaction: done\n",
      "\n",
      "Note: you may need to restart the kernel to use updated packages.\n"
     ]
    }
   ],
   "source": [
    "%conda install datalad"
   ]
  },
  {
   "cell_type": "code",
   "execution_count": 11,
   "metadata": {},
   "outputs": [
    {
     "ename": "ModuleNotFoundError",
     "evalue": "No module named 'datalad'",
     "output_type": "error",
     "traceback": [
      "\u001b[0;31m---------------------------------------------------------------------------\u001b[0m",
      "\u001b[0;31mModuleNotFoundError\u001b[0m                       Traceback (most recent call last)",
      "Input \u001b[0;32mIn [11]\u001b[0m, in \u001b[0;36m<cell line: 3>\u001b[0;34m()\u001b[0m\n\u001b[1;32m      1\u001b[0m \u001b[38;5;28;01mimport\u001b[39;00m \u001b[38;5;21;01mos\u001b[39;00m\n\u001b[1;32m      2\u001b[0m \u001b[38;5;28;01mimport\u001b[39;00m \u001b[38;5;21;01mglob\u001b[39;00m\n\u001b[0;32m----> 3\u001b[0m \u001b[38;5;28;01mimport\u001b[39;00m \u001b[38;5;21;01mdatalad\u001b[39;00m\u001b[38;5;21;01m.\u001b[39;00m\u001b[38;5;21;01mapi\u001b[39;00m \u001b[38;5;28;01mas\u001b[39;00m \u001b[38;5;21;01mdl\u001b[39;00m\n\u001b[1;32m      4\u001b[0m \u001b[38;5;28;01mimport\u001b[39;00m \u001b[38;5;21;01mpandas\u001b[39;00m \u001b[38;5;28;01mas\u001b[39;00m \u001b[38;5;21;01mpd\u001b[39;00m\n\u001b[1;32m      6\u001b[0m localizer_path \u001b[38;5;241m=\u001b[39m \u001b[38;5;124m'\u001b[39m\u001b[38;5;124m../data/localizer\u001b[39m\u001b[38;5;124m'\u001b[39m\n",
      "\u001b[0;31mModuleNotFoundError\u001b[0m: No module named 'datalad'"
     ]
    }
   ],
   "source": [
    "import os\n",
    "import glob\n",
    "import datalad.api as dl\n",
    "import pandas as pd\n",
    "\n",
    "localizer_path = '../data/localizer'\n",
    "\n",
    "dl.clone(source='https://gin.g-node.org/ljchang/Localizer', path=localizer_path)"
   ]
  },
  {
   "cell_type": "code",
   "execution_count": 16,
   "metadata": {},
   "outputs": [
    {
     "name": "stdout",
     "output_type": "stream",
     "text": [
      "\u001b[1m\u001b[36mLocalizer\u001b[m\u001b[m \u001b[1m\u001b[36msalary\u001b[m\u001b[m\r\n"
     ]
    }
   ],
   "source": [
    "!ls ../data"
   ]
  },
  {
   "cell_type": "code",
   "execution_count": 15,
   "metadata": {
    "ExecuteTime": {
     "end_time": "2020-04-18T21:26:02.705868Z",
     "start_time": "2020-04-18T21:25:57.688108Z"
    }
   },
   "outputs": [
    {
     "ename": "BIDSValidationError",
     "evalue": "'dataset_description.json' is missing from project root. Every valid BIDS dataset must have this file.\nExample contents of 'dataset_description.json': \n{\"Name\": \"Example dataset\", \"BIDSVersion\": \"1.0.2\"}",
     "output_type": "error",
     "traceback": [
      "\u001b[0;31m---------------------------------------------------------------------------\u001b[0m",
      "\u001b[0;31mBIDSValidationError\u001b[0m                       Traceback (most recent call last)",
      "Input \u001b[0;32mIn [15]\u001b[0m, in \u001b[0;36m<cell line: 9>\u001b[0;34m()\u001b[0m\n\u001b[1;32m      6\u001b[0m \u001b[38;5;28;01mimport\u001b[39;00m \u001b[38;5;21;01mos\u001b[39;00m\n\u001b[1;32m      8\u001b[0m data_dir \u001b[38;5;241m=\u001b[39m \u001b[38;5;124m'\u001b[39m\u001b[38;5;124m../data/localizer\u001b[39m\u001b[38;5;124m'\u001b[39m\n\u001b[0;32m----> 9\u001b[0m layout \u001b[38;5;241m=\u001b[39m \u001b[43mBIDSLayout\u001b[49m\u001b[43m(\u001b[49m\u001b[43mdata_dir\u001b[49m\u001b[43m,\u001b[49m\u001b[43m \u001b[49m\u001b[43mderivatives\u001b[49m\u001b[38;5;241;43m=\u001b[39;49m\u001b[38;5;28;43;01mTrue\u001b[39;49;00m\u001b[43m)\u001b[49m\n\u001b[1;32m     11\u001b[0m data \u001b[38;5;241m=\u001b[39m pd\u001b[38;5;241m.\u001b[39mread_csv(layout\u001b[38;5;241m.\u001b[39mget(subject\u001b[38;5;241m=\u001b[39m\u001b[38;5;124m'\u001b[39m\u001b[38;5;124mS01\u001b[39m\u001b[38;5;124m'\u001b[39m, scope\u001b[38;5;241m=\u001b[39m\u001b[38;5;124m'\u001b[39m\u001b[38;5;124mderivatives\u001b[39m\u001b[38;5;124m'\u001b[39m, extension\u001b[38;5;241m=\u001b[39m\u001b[38;5;124m'\u001b[39m\u001b[38;5;124m.tsv\u001b[39m\u001b[38;5;124m'\u001b[39m)[\u001b[38;5;241m0\u001b[39m]\u001b[38;5;241m.\u001b[39mpath, sep\u001b[38;5;241m=\u001b[39m\u001b[38;5;124m'\u001b[39m\u001b[38;5;130;01m\\t\u001b[39;00m\u001b[38;5;124m'\u001b[39m)\n\u001b[1;32m     13\u001b[0m f,a \u001b[38;5;241m=\u001b[39m plt\u001b[38;5;241m.\u001b[39msubplots(ncols\u001b[38;5;241m=\u001b[39m\u001b[38;5;241m2\u001b[39m, figsize\u001b[38;5;241m=\u001b[39m(\u001b[38;5;241m15\u001b[39m,\u001b[38;5;241m5\u001b[39m))\n",
      "File \u001b[0;32m/usr/local/Caskroom/miniconda/base/envs/nipype/lib/python3.8/site-packages/bids/layout/layout.py:127\u001b[0m, in \u001b[0;36mBIDSLayout.__init__\u001b[0;34m(self, root, validate, absolute_paths, derivatives, config, sources, regex_search, database_path, reset_database, indexer, **indexer_kwargs)\u001b[0m\n\u001b[1;32m    124\u001b[0m     config \u001b[38;5;241m=\u001b[39m info\u001b[38;5;241m.\u001b[39mconfig\n\u001b[1;32m    126\u001b[0m \u001b[38;5;66;03m# Validate that a valid BIDS project exists at root\u001b[39;00m\n\u001b[0;32m--> 127\u001b[0m root, description \u001b[38;5;241m=\u001b[39m \u001b[43mvalidate_root\u001b[49m\u001b[43m(\u001b[49m\u001b[43mroot\u001b[49m\u001b[43m,\u001b[49m\u001b[43m \u001b[49m\u001b[43mvalidate\u001b[49m\u001b[43m)\u001b[49m\n\u001b[1;32m    129\u001b[0m \u001b[38;5;28mself\u001b[39m\u001b[38;5;241m.\u001b[39m_root \u001b[38;5;241m=\u001b[39m root  \u001b[38;5;66;03m# type: Path\u001b[39;00m\n\u001b[1;32m    130\u001b[0m \u001b[38;5;28mself\u001b[39m\u001b[38;5;241m.\u001b[39mdescription \u001b[38;5;241m=\u001b[39m description\n",
      "File \u001b[0;32m/usr/local/Caskroom/miniconda/base/envs/nipype/lib/python3.8/site-packages/bids/layout/validation.py:73\u001b[0m, in \u001b[0;36mvalidate_root\u001b[0;34m(root, validate)\u001b[0m\n\u001b[1;32m     71\u001b[0m \u001b[38;5;28;01mif\u001b[39;00m \u001b[38;5;129;01mnot\u001b[39;00m target\u001b[38;5;241m.\u001b[39mexists():\n\u001b[1;32m     72\u001b[0m     \u001b[38;5;28;01mif\u001b[39;00m validate:\n\u001b[0;32m---> 73\u001b[0m         \u001b[38;5;28;01mraise\u001b[39;00m BIDSValidationError(\n\u001b[1;32m     74\u001b[0m             \u001b[38;5;124m\"\u001b[39m\u001b[38;5;124m'\u001b[39m\u001b[38;5;124mdataset_description.json\u001b[39m\u001b[38;5;124m'\u001b[39m\u001b[38;5;124m is missing from project root.\u001b[39m\u001b[38;5;124m\"\u001b[39m\n\u001b[1;32m     75\u001b[0m             \u001b[38;5;124m\"\u001b[39m\u001b[38;5;124m Every valid BIDS dataset must have this file.\u001b[39m\u001b[38;5;124m\"\u001b[39m\n\u001b[1;32m     76\u001b[0m             \u001b[38;5;124m\"\u001b[39m\u001b[38;5;130;01m\\n\u001b[39;00m\u001b[38;5;124mExample contents of \u001b[39m\u001b[38;5;124m'\u001b[39m\u001b[38;5;124mdataset_description.json\u001b[39m\u001b[38;5;124m'\u001b[39m\u001b[38;5;124m: \u001b[39m\u001b[38;5;130;01m\\n\u001b[39;00m\u001b[38;5;132;01m%s\u001b[39;00m\u001b[38;5;124m\"\u001b[39m \u001b[38;5;241m%\u001b[39m\n\u001b[1;32m     77\u001b[0m             json\u001b[38;5;241m.\u001b[39mdumps(EXAMPLE_BIDS_DESCRIPTION)\n\u001b[1;32m     78\u001b[0m         )\n\u001b[1;32m     79\u001b[0m     \u001b[38;5;28;01melse\u001b[39;00m:\n\u001b[1;32m     80\u001b[0m         description \u001b[38;5;241m=\u001b[39m \u001b[38;5;28;01mNone\u001b[39;00m\n",
      "\u001b[0;31mBIDSValidationError\u001b[0m: 'dataset_description.json' is missing from project root. Every valid BIDS dataset must have this file.\nExample contents of 'dataset_description.json': \n{\"Name\": \"Example dataset\", \"BIDSVersion\": \"1.0.2\"}"
     ]
    }
   ],
   "source": [
    "import pandas as pd\n",
    "import numpy as np\n",
    "import seaborn as sns\n",
    "import matplotlib.pyplot as plt\n",
    "from bids import BIDSLayout, BIDSValidator\n",
    "import os\n",
    "\n",
    "data_dir = '../data/localizer'\n",
    "layout = BIDSLayout(data_dir, derivatives=True)\n",
    "\n",
    "data = pd.read_csv(layout.get(subject='S01', scope='derivatives', extension='.tsv')[0].path, sep='\\t')\n",
    "\n",
    "f,a = plt.subplots(ncols=2, figsize=(15,5))\n",
    "\n",
    "data.loc[:,['trans_x','trans_y','trans_z']].plot(ax=a[0])\n",
    "a[0].set_ylabel('Translation (mm)', fontsize=16)\n",
    "a[0].set_xlabel('Time (TR)', fontsize=16)\n",
    "a[0].set_title('Translation', fontsize=18)\n",
    "\n",
    "data.loc[:,['rot_x','rot_y','rot_z']].plot(ax=a[1])\n",
    "a[1].set_ylabel('Rotation (radian)', fontsize=16)\n",
    "a[1].set_xlabel('Time (TR)', fontsize=16)\n",
    "a[1].set_title('Rotation', fontsize=18)"
   ]
  },
  {
   "cell_type": "markdown",
   "metadata": {},
   "source": [
    "Don't forget that even though we can approximately put each volume into a similar position with realignment that head motion always distorts the magnetic field and can lead to nonlinear changes in signal intensity that will not be addressed by this procedure. In the resting-state literature, where many analyses are based on functional connectivity, head motion can lead to spurious correlations. Some researchers choose to exclude any subject that moved more than certain amount. Other's choose to remove the impact of these time points in their data through removing the volumes via *scrubbing* or modeling out the volume with a dummy code in the first level general linear models."
   ]
  },
  {
   "cell_type": "markdown",
   "metadata": {},
   "source": [
    "## Spatial Normalization\n",
    "There are several other preprocessing steps that involve image registration. The main one is called *spatial normalization*, in which each subject's brain data is warped into a common stereotactic space. Talaraich is an older space, that has been subsumed by various standards developed by the Montreal Neurological Institute.\n",
    "\n",
    "There are a variety of algorithms to warp subject data into stereotactic space. Linear 12 parameter affine transformation have been increasingly been replaced by more complicated nonlinear normalizations that have hundreds to thousands of parameters. \n",
    "\n",
    "One nonlinear algorithm that has performed very well across comparison studies is *diffeomorphic registration*, which can also be inverted so that subject space can be transformed into stereotactic space and back to subject space. This is the core of the [ANTs](http://stnava.github.io/ANTs/) algorithm that is implemented in fmriprep. See this [overview](https://elef.soic.indiana.edu/documentation/0.15.0.dev/examples_built/syn_registration_2d/) for more details.\n",
    "\n",
    "Let's watch another short video by Martin Lindquist and Tor Wager to learn more about the core preprocessing steps."
   ]
  },
  {
   "cell_type": "markdown",
   "metadata": {},
   "source": [
    "There are many different steps involved in the spatial normalization process and these details vary widely across various imaging software packages. We will briefly discuss some of the steps involved in the anatomical preprocessing pipeline implemented by fMRIprep and will be showing example figures from the output generated by the pipeline.\n",
    "\n",
    "First, brains are extracted from the skull and surrounding dura mater. You can check and see how well the algorithm performed by examining the red outline.\n",
    "\n",
    "![normalization](../images/preprocessing/T1_normalization.png)\n",
    "\n",
    "Next, the anatomical images are segmented into different tissue types, these tissue maps are used for various types of analyses, including providing a grey matter mask to reduce the computational time in estimating statistics. In addition, they provide masks to aid in extracting average activity in CSF, or white matter, which might be used as covariates in the statistical analyses to account for physiological noise.\n",
    "![normalization](../images/preprocessing/T1_segmentation.png)\n",
    "\n",
    "### Spatial normalization of the anatomical T1w reference\n",
    "fmriprep uses the [ANTs](http://stnava.github.io/ANTs/) to perform nonlinear spatial normaliziation. It is easy to check to see how well the algorithm performed by viewing the results of aligning the T1w reference to the stereotactic reference space. Hover on the panels with the mouse pointer to transition between both spaces. We are using the MNI152NLin2009cAsym template.\n",
    "![normalization](../images/preprocessing/sub-S01_space-MNI152NLin2009cAsym_T1w.svg)\n",
    "\n",
    "### Alignment of functional and anatomical MRI data\n",
    "Next, we can evaluate the quality of alignment of the functional data to the anatomical T1 image. FSL `flirt` was used to generate transformations from EPI-space to T1w-space - The white matter mask calculated with FSL `fast` (brain tissue segmentation) was used for BBR. Note that Nearest Neighbor interpolation is used in the reportlets in order to highlight potential spin-history and other artifacts, whereas final images are resampled using Lanczos interpolation. Notice these images are much blurrier and show some distortion compared to the T1s. \n",
    "![epi](../images/preprocessing/sub-S01_task-localizer_desc-flirtbbr_bold.svg)"
   ]
  },
  {
   "cell_type": "markdown",
   "metadata": {},
   "source": [
    "## Spatial Smoothing\n",
    "The last step we will cover in the preprocessing pipeline is *spatial smoothing*. This step involves applying a filter to the image, which removes high frequency spatial information. This step is identical to convolving a kernel to a 1-D signal that we covered in the {doc}`../content/Signal_Processing` lab, but the kernel here is a 3-D Gaussian kernel. The amount of smoothing is determined by specifying the width of the distribution (i.e., the standard deviation) using the Full Width at Half Maximum (FWHM) parameter.\n",
    "\n",
    "Why we would want to decrease our image resolution with spatial smoothing after we tried very hard to increase our resolution at the data acquisition stage? This is because this step may help increase the signal to noise ratio by reducing the impact of partial volume effects, residual anatomical differences following normalization, and other aliasing from applying spatial transformation.\n",
    "\n",
    "Here is what a 3D gaussian kernel looks like."
   ]
  },
  {
   "cell_type": "code",
   "execution_count": 13,
   "metadata": {
    "ExecuteTime": {
     "end_time": "2020-04-17T04:49:07.720659Z",
     "start_time": "2020-04-17T04:49:07.437484Z"
    }
   },
   "outputs": [
    {
     "data": {
      "image/png": "[encoded data removed]",
      "text/plain": [
       "<Figure size 864x432 with 1 Axes>"
      ]
     },
     "metadata": {
      "needs_background": "light"
     },
     "output_type": "display_data"
    }
   ],
   "source": [
    "def plot_gaussian(sigma=2, kind='surface', cmap='viridis', linewidth=1, **kwargs):\n",
    "    '''Generates a 3D matplotlib plot of a Gaussian distribution'''\n",
    "    mean=0\n",
    "    domain=10\n",
    "    x = np.arange(-domain + mean, domain + mean, sigma/10)\n",
    "    y = np.arange(-domain + mean, domain + mean, sigma/10)\n",
    "    x, y = np.meshgrid(x, x)\n",
    "    r = (x ** 2 + y ** 2) / (2 * sigma ** 2)\n",
    "    z = 1 / (np.pi * sigma ** 4) * (1 - r) * np.exp(-r)\n",
    "\n",
    "    fig = plt.figure(figsize=(12, 6))\n",
    "\n",
    "    ax = plt.axes(projection='3d')\n",
    "    if kind=='wire':\n",
    "        ax.plot_wireframe(x, y, z, cmap=cmap, linewidth=linewidth, **kwargs)\n",
    "    elif kind=='surface':\n",
    "        ax.plot_surface(x, y, z, cmap=cmap, linewidth=linewidth, **kwargs)\n",
    "    else:\n",
    "        NotImplemented\n",
    "    \n",
    "    ax.set_xlabel('x', fontsize=16)\n",
    "    ax.set_ylabel('y', fontsize=16)\n",
    "    ax.set_zlabel('z', fontsize=16)\n",
    "    plt.axis('off')\n",
    "\n",
    "plot_gaussian(kind='surface', linewidth=1)\n"
   ]
  },
  {
   "cell_type": "markdown",
   "metadata": {},
   "source": [
    "## fmriprep\n",
    "Throughout this lab and course, you have frequently heard about [fmriprep](https://fmriprep.readthedocs.io/en/stable/), which is a functional magnetic resonance imaging (fMRI) data preprocessing pipeline that was developed by a team at the [Center for Reproducible Research](http://reproducibility.stanford.edu/) led by Russ Poldrack and Chris Gorgolewski. Fmriprep was designed to provide an easily accessible, state-of-the-art interface that is robust to variations in scan acquisition protocols, requires minimal user input, and provides easily interpretable and comprehensive error and output reporting. Fmriprep performs basic processing steps (coregistration, normalization, unwarping, noise component extraction, segmentation, skullstripping etc.) providing outputs that are ready for data analysis. \n",
    "\n",
    "fmriprep was built on top of [nipype](https://nipype.readthedocs.io/en/latest/), which is a tool to build preprocessing pipelines in python using graphs. This provides a completely flexible way to create custom pipelines using any type of software while also facilitating easy parallelization of steps across the pipeline on high performance computing platforms. Nipype is completely flexible, but has a fairly steep learning curve and is best for researchers who have strong opinions about how they want to preprocess their data, or are working with nonstandard data that might require adjusting the preprocessing steps or parameters. In practice, most researchers typically use similar preprocessing steps and do not need to tweak the pipelines very often. In addition, many researchers do not fully understand how each preprocessing step will impact their results and would prefer if somebody else picked suitable defaults based on current best practices in the literature. The fmriprep pipeline uses a combination of tools from well-known software packages, including FSL_, ANTs_, FreeSurfer_ and AFNI_. This pipeline was designed to provide the best software implementation for each state of preprocessing, and is quickly being updated as methods evolve and bugs are discovered by a growing user base.\n",
    "\n",
    "This tool allows you to easily do the following:\n",
    "\n",
    "- Take fMRI data from raw to fully preprocessed form.\n",
    "- Implement tools from different software packages.\n",
    "- Achieve optimal data processing quality by using the best tools available.\n",
    "- Generate preprocessing quality reports, with which the user can easily identify outliers.\n",
    "- Receive verbose output concerning the stage of preprocessing for each subject, including meaningful errors.\n",
    "- Automate and parallelize processing steps, which provides a significant speed-up from typical linear, manual processing.\n",
    "- More information and documentation can be found at https://fmriprep.readthedocs.io/\n",
    "\n",
    "\n",
    "![image.png](../images/preprocessing/fmriprep.png)"
   ]
  },
  {
   "cell_type": "markdown",
   "metadata": {},
   "source": [
    "### Running fmriprep\n",
    "Running fmriprep is a (mostly) trivial process of running a single line in the command line specifying a few choices and locations for the output data. One of the annoying things about older neuroimaging software that was developed by academics is that the packages were developed using many different development environments and on different operating systems (e.g., unix, windows, mac). It can be a nightmare getting some of these packages to install on more modern computing systems. As fmriprep uses many different packages, they have made it much easier to circumvent the time-consuming process of installing many different packages by releasing a [docker container](https://fmriprep.readthedocs.io/en/stable/docker.html) that contains everything you need to run the pipeline.\n",
    "\n",
    "Unfortunately, our AWS cloud instances running our jupyter server are not equipped with enough computational resources to run fmriprep at this time. However, if you're interested in running this on your local computer, here is the code you could use to run it in a jupyter notebook, or even better in the command line on a high performance computing environment.\n",
    "\n",
    "```\n",
    "import os\n",
    "base_dir = '/Users/lukechang/Dropbox/Dartbrains/Data'\n",
    "data_path = os.path.join(base_dir, 'localizer')\n",
    "output_path = os.path.join(base_dir, 'preproc')\n",
    "work_path = os.path.join(base_dir, 'work')\n",
    "\n",
    "sub = 'S01'\n",
    "subs = [f'S{x:0>2d}' for x in range(10)]\n",
    "for sub in subs:\n",
    "    !fmriprep-docker {data_path} {output_path} participant --participant_label sub-{sub} --write-graph --fs-no-reconall --notrack --fs-license-file ~/Dropbox/Dartbrains/License/license.txt --work-dir {work_path}\n",
    "```"
   ]
  },
  {
   "cell_type": "markdown",
   "metadata": {},
   "source": [
    "### Quick primer on High Performance Computing\n",
    "\n",
    "We could run fmriprep on our computer, but this could take a long time if we have a lot of participants. Because we have a limited amount of computational resources on our laptops (e.g., cpus, and memory), we would have to run each participant sequentially. For example, if we had 50 participants, it would take 50 times longer to run all participants than a single one. \n",
    "\n",
    "Imagine if you had 50 computers and ran each participant separate at the same time in parallel across all of the computers. This would allow us to run 50 participants in the same amount of time as a single participant. This is the basic idea behind high performance computing, which contains a cluster of many computers that have been installed in racks. Below is a picture of what Dartmouth's [Discovery cluster](https://rc.dartmouth.edu/index.php/discovery-overview/) looks like:\n",
    "\n",
    "![discovery](../images/preprocessing/hpc.png)\n",
    "\n",
    "A cluster is simply a collection of nodes. A node can be thought of as an individual computer. Each node contains processors, which encompass multiple cores. Discovery contains 3000+ cores, which is certainly a lot more than your laptop!\n",
    "\n",
    "In order to submit a job, you can create a Portable Batch System (PBS) script that sets up the parameters (e.g., how much time you want your script to run, specifying directory to run, etc) and submits your job to a queue.\n",
    "\n",
    "**NOTE**: For this class, we will only be using the jupyterhub server, but if you end up working in a lab in the future, you will need to request access to the *discovery* system using this [link](https://rcweb.dartmouth.edu/accounts/)."
   ]
  },
  {
   "cell_type": "markdown",
   "metadata": {},
   "source": [
    "### fmriprep output\n",
    "You can see a summary of the operations fmriprep performed by examining the .html files in the `derivatives/fmriprep` folder within the `localizer` data directory.\n",
    "\n",
    "We will load the first subject's output file. Spend some time looking at the outputs and feel free to examine other subjects as well. Currently, the first 10 subjects should be available on the jupyterhub."
   ]
  },
  {
   "cell_type": "code",
   "execution_count": 14,
   "metadata": {
    "ExecuteTime": {
     "end_time": "2020-04-17T06:08:35.524154Z",
     "start_time": "2020-04-17T06:08:35.517120Z"
    }
   },
   "outputs": [
    {
     "data": {
      "text/html": [
       "sub-S01.html"
      ],
      "text/plain": [
       "<IPython.core.display.HTML object>"
      ]
     },
     "execution_count": 14,
     "metadata": {},
     "output_type": "execute_result"
    }
   ],
   "source": [
    "from IPython.display import HTML\n",
    "\n",
    "HTML('sub-S01.html')"
   ]
  },
  {
   "cell_type": "markdown",
   "metadata": {},
   "source": [
    "## Limitations of fmriprep\n",
    "In general, we recommend using this pipeline if you want a sensible default. Considerable thought has gone into selecting reasonable default parameters and selecting preprocessing steps based on best practices in the field (as determined by the developers). This is not necessarily the case for any of the default settings in any of the more conventional software packages (e.g., spm, fsl, afni, etc). \n",
    "\n",
    "However, there is an important tradeoff in using this tool. On the one hand, it's nice in that it is incredibly straightforward to use (one line of code!), has excellent documentation, and is actively being developed to fix bugs and improve the overall functionality. There is also a growing user base to ask questions.  [Neurostars](https://neurostars.org/) is an excellent forum to post questions and learn from others. On the other hand, fmriprep, is unfortunately in its current state not easily customizable. If you disagree with the developers about the order or specific preprocessing steps, it is very difficult to modify. Future versions will hopefully be more modular and easier to make custom pipelines.  If you need this type of customizability we strongly recommend using nipype over fmriprep.\n",
    "\n",
    "In practice, it's alway a little bit finicky to get everything set up on a particular system. Sometimes you might run into issues with a specific missing file like the [freesurfer license](https://fmriprep.readthedocs.io/en/stable/usage.html#the-freesurfer-license) even if you're not using it. You might also run into issues with the format of the data that might have some conflicts with the [bids-validator](https://github.com/bids-standard/bids-validator). In our experience, there is always some frustrations getting this to work, but it's very nice once it's done."
   ]
  },
  {
   "cell_type": "markdown",
   "metadata": {},
   "source": [
    "## Exercises\n",
    "\n",
    "### Exercise 1. Inspect HTML output of other participants.\n",
    "For this exercise, you will need to navigate to the derivatives folder containing the fmriprep preprocessed data `../data/data/localizer/derivatives/fmriprep` and inspect the html output of other subjects (ie., not 'S01'). Did the preprocessing steps works? are there any issues with the data that we should be concerned about?\n"
   ]
  },
  {
   "cell_type": "code",
   "execution_count": null,
   "metadata": {},
   "outputs": [],
   "source": []
  }
 ],
 "metadata": {
  "kernelspec": {
   "display_name": "Python 3 (ipykernel)",
   "language": "python",
   "name": "python3"
  },
  "language_info": {
   "codemirror_mode": {
    "name": "ipython",
    "version": 3
   },
   "file_extension": ".py",
   "mimetype": "text/x-python",
   "name": "python",
   "nbconvert_exporter": "python",
   "pygments_lexer": "ipython3",
   "version": "3.8.13"
  },
  "toc": {
   "base_numbering": 1,
   "nav_menu": {},
   "number_sections": true,
   "sideBar": true,
   "skip_h1_title": false,
   "title_cell": "Table of Contents",
   "title_sidebar": "Contents",
   "toc_cell": false,
   "toc_position": {
    "height": "calc(100% - 180px)",
    "left": "10px",
    "top": "150px",
    "width": "311.337px"
   },
   "toc_section_display": true,
   "toc_window_display": true
  }
 },
 "nbformat": 4,
 "nbformat_minor": 4
}
